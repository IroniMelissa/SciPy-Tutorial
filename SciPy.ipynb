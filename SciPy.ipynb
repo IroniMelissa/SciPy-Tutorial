{
  "nbformat": 4,
  "nbformat_minor": 0,
  "metadata": {
    "colab": {
      "provenance": []
    },
    "kernelspec": {
      "name": "python3",
      "display_name": "Python 3"
    },
    "language_info": {
      "name": "python"
    }
  },
  "cells": [
    {
      "cell_type": "code",
      "execution_count": 1,
      "metadata": {
        "id": "TUu9hz1D0K4e"
      },
      "outputs": [],
      "source": [
        "import numpy as np\n",
        "from scipy import linalg"
      ]
    },
    {
      "cell_type": "markdown",
      "source": [
        "##### Test has30 questions and worth 150 marks.\n",
        "##### True and false questions worth 4 marks each\n",
        "##### multiple choice questions worth 9 points each\n",
        "\n",
        "##### let x is the number of true/false questions\n",
        "##### let y is the number of multiple choice questions\n",
        "\n",
        "##### (x + y = 30)\n",
        "(4x + 9y = 150)"
      ],
      "metadata": {
        "id": "Ml6F5Jfn0cvs"
      }
    },
    {
      "cell_type": "code",
      "source": [
        "testQuestuonVaribale = np.array([[1,1],[4,9]])\n",
        "testQuestionValue = np.array([30,150])"
      ],
      "metadata": {
        "id": "0gKS6R1u3Aiz"
      },
      "execution_count": 2,
      "outputs": []
    },
    {
      "cell_type": "markdown",
      "source": [
        "##### use linalg function of scipy\n",
        "#####  use solve method to solve the linear equation and find value for x and y"
      ],
      "metadata": {
        "id": "uNuAFi8v3YEb"
      }
    },
    {
      "cell_type": "code",
      "source": [
        "linalg.solve(testQuestuonVaribale,testQuestionValue)"
      ],
      "metadata": {
        "colab": {
          "base_uri": "https://localhost:8080/"
        },
        "id": "MvdDk8W63OJg",
        "outputId": "2ed8efec-fb7a-4306-aef0-476cbe1f25ac"
      },
      "execution_count": 3,
      "outputs": [
        {
          "output_type": "execute_result",
          "data": {
            "text/plain": [
              "array([24.,  6.])"
            ]
          },
          "metadata": {},
          "execution_count": 3
        }
      ]
    }
  ]
}